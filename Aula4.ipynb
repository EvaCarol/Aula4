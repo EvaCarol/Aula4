{
 "cells": [
  {
   "cell_type": "code",
   "execution_count": 4,
   "metadata": {},
   "outputs": [
    {
     "name": "stdout",
     "output_type": "stream",
     "text": [
      "Seu antigo salário era:  1000.0   Parabéns técnico, Seu novo salário é:  1300.0\n"
     ]
    }
   ],
   "source": [
    "# taxa 1% antes de 1990 e taxa de 1.5% a partir de 1990\n",
    "# Taxa em cima do preço e ano do  carro, calcule e imprima o imposto a ser pago\n",
    "\n",
    "\"\"\"preco_car = float(input(\"Quanto vale o seu carro? \"))\n",
    "ano_car = float(input(\"Qual o ano do seu carro? \"))\n",
    "\n",
    "if (ano_car < 1990):\n",
    "    print(\"Taxa a ser paga é de: \", preco_car * 0.001)\n",
    "else:\n",
    "    print(\"Taxa a ser paga é de: \", preco_car * 0.0015)\"\"\"\n",
    "    \n",
    "# Ler salário e o cargo, calcule novo salário\n",
    "# Se cargo ão estiver na tabela recebe 40% de aumento\n",
    "\n",
    "sal_atual = float(input(\"Qual o seu salário? \"))\n",
    "cod = int(input(\"Me informe seu código: \"))\n",
    "\n",
    "if (cod == 101):\n",
    "    print(\"Seu antigo salário era: \", sal_atual,\"  Parabéns gerente, Seu novo salário é: \", sal_atual * 0.1 + sal_atual)\n",
    "elif (cod == 102):\n",
    "    print(\"Seu antigo salário era: \", \"  Parabéns egenheiro, Seu novo salário é: \", sal_atual, * 0.2 + sal_atual)    \n",
    "elif (cod == 103):\n",
    "    print(\"Seu antigo salário era: \", sal_atual, \"  Parabéns técnico, Seu novo salário é: \", sal_atual * 0.3 + sal_atual)   \n",
    "else:\n",
    "    print(\"Seu antigo salário era: \", sal_atual, \"  Parabéns, Seu novo salário é: \", sal_atual * 0.4 + sal_atual)     \n",
    "\n"
   ]
  }
 ],
 "metadata": {
  "kernelspec": {
   "display_name": "Python 3",
   "language": "python",
   "name": "python3"
  },
  "language_info": {
   "codemirror_mode": {
    "name": "ipython",
    "version": 3
   },
   "file_extension": ".py",
   "mimetype": "text/x-python",
   "name": "python",
   "nbconvert_exporter": "python",
   "pygments_lexer": "ipython3",
   "version": "3.11.9"
  }
 },
 "nbformat": 4,
 "nbformat_minor": 2
}
